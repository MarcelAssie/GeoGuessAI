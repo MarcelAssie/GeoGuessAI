{
 "cells": [
  {
   "metadata": {
    "ExecuteTime": {
     "end_time": "2025-07-11T16:39:28.151050Z",
     "start_time": "2025-07-11T16:39:24.484855Z"
    }
   },
   "cell_type": "code",
   "source": [
    "import pandas as pd\n",
    "from RawCodes.processing import GeospatialGame"
   ],
   "id": "301c1577c50ff1d1",
   "outputs": [],
   "execution_count": 1
  },
  {
   "metadata": {
    "ExecuteTime": {
     "end_time": "2025-07-11T16:40:03.708371Z",
     "start_time": "2025-07-11T16:39:28.176435Z"
    }
   },
   "cell_type": "code",
   "source": [
    "try:\n",
    "    game = GeospatialGame()\n",
    "    print(game.start_game())\n",
    "except Exception as e:\n",
    "    print(f\"Erreur dans le lancement du jeu : {e}\")"
   ],
   "id": "bd037dcf36c50dd",
   "outputs": [
    {
     "name": "stdout",
     "output_type": "stream",
     "text": [
      "\n",
      "        🧠 Concept :\n",
      "\n",
      "        Bienvenue Non renseigné dans GeoGuessAI, un jeu géospatial passionnant où toi (l’humain) affrontes une IA sur son propre terrain : la connaissance de l’espace.\n",
      "        Tu peux jouer en mode adresse → coordonnées ou coordonnées → adresse. À chaque tour, c’est à toi de deviner… puis à l’IA. Et le meilleur gagne !\n",
      "\n",
      "        🎯 Objectif du jeu :\n",
      "        Construire une boucle de jeu interactive où l’utilisateur et l’IA jouent à tour de rôle, chacun essayant de localiser précisément une adresse ou des coordonnées.\n",
      "        L’objectif est simple : être plus précis que l’IA, cumuler plus de points, et prouver que le cerveau humain sait encore battre les machines ! 🧠⚔️🤖\n",
      "\n",
      "        🕹️ Deux modes de jeu au choix :\n",
      "\n",
      "        🔁 Mode 1 : \"Adresse → Coordonnées\"\n",
      "\n",
      "        - Une adresse aléatoire est générée.\n",
      "\n",
      "        - Tu dois proposer les coordonnées GPS (latitude / longitude).\n",
      "\n",
      "        - Si la distance entre ta réponse et la vraie position est inférieure à un seuil de tolérance (ex : 100 m), tu gagnes des points.\n",
      "\n",
      "        - Sinon, l’IA tente à son tour de deviner les coordonnées de sa propre adresse aléatoire.\n",
      "\n",
      "        - Même règle, même enjeu.\n",
      "\n",
      "        🧭 Mode 2 : \"Coordonnées → Adresse\"\n",
      "\n",
      "        Des coordonnées GPS aléatoires sont générées.\n",
      "\n",
      "        Tu dois deviner :\n",
      "\n",
      "        ✅ La commune → +1 point\n",
      "\n",
      "        ✅ Le nom de la voie → +2 points\n",
      "\n",
      "        ✅ Le numéro exact → +3 points\n",
      "\n",
      "        Tu gagnes des points en fonction de ta précision.\n",
      "\n",
      "        Ensuite, l’IA joue aussi, et tente à son tour de répondre à un autre jeu de coordonnées.\n",
      "\n",
      "        \n",
      "        Bonus : si tu bats l’IA avec plus de précision = bonus combo ! 🎉\n",
      "\n",
      "\n",
      "        \n",
      "        \n",
      "      unique_ids  latitude  longitude  numeros              voies  communes\n",
      "14501  ID0014502  48.40986  -2.817066       28  Rue des Peupliers  Plaintel\n",
      "----------------------------------------------------------------------------------------------------\n",
      "C'est au tour de la machine\n",
      "Voici l'adresse complète dont la machine doit déviner les coordonnées exactes : \n",
      "Commune : Plaintel \n",
      "Nom de la voie : Rue des Peupliers \n",
      "Numéro de la voie : 28\n",
      "\n",
      "{'latitude': 48.42533, 'longitude': -2.82155, 'unique_id': 'ID0014502'}\n",
      "La précision est de 1751.97 mètres \n",
      "\n",
      "Coool ! La machine gagne 100 de plus\n",
      "      unique_ids   latitude  longitude  numeros                    voies  \\\n",
      "93542  ID0093543  47.231141   2.060982       26  Avenue Edouard Vaillant   \n",
      "\n",
      "      communes  \n",
      "93542  Vierzon  \n",
      "----------------------------------------------------------------------------------------------------\n",
      "C'est à votre tour de jouer\n",
      "Voici l'adresse complète dont vous devez deviner les coordonnées exactes : \n",
      "Commune : Vierzon \n",
      "Nom de la voie : Avenue Edouard Vaillant \n",
      "Numéro de la voie : 26\n",
      "\n",
      "{'latitude': 45.75, 'longitude': 1.445, 'unique_id': 'ID0093543'}\n",
      "La précision est de 171300.90 mètres \n",
      "\n",
      "      unique_ids   latitude  longitude  numeros           voies communes\n",
      "51049  ID0051050  47.056462   0.551271       27  Rue de Talvois  Nouâtre\n",
      "----------------------------------------------------------------------------------------------------\n",
      "C'est au tour de la machine\n",
      "Voici l'adresse complète dont la machine doit déviner les coordonnées exactes : \n",
      "Commune : Nouâtre \n",
      "Nom de la voie : Rue de Talvois \n",
      "Numéro de la voie : 27\n",
      "\n",
      "{'latitude': 47.085315, 'longitude': 0.555288, 'unique_id': 'ID0051050'}\n",
      "La précision est de 3222.13 mètres \n",
      "\n",
      "Coool ! La machine gagne 100 de plus\n",
      "Score final \n",
      "                   Non renseigné  Machine\n",
      "Nombre de points              0      200\n",
      "None\n"
     ]
    }
   ],
   "execution_count": 2
  },
  {
   "metadata": {
    "ExecuteTime": {
     "end_time": "2025-07-11T16:40:04.369781Z",
     "start_time": "2025-07-11T16:40:04.362329Z"
    }
   },
   "cell_type": "code",
   "source": [
    "# distance = geodesic([,], [,]).meters\n",
    "# print(distance)"
   ],
   "id": "cb282da37601fd2c",
   "outputs": [],
   "execution_count": 3
  },
  {
   "metadata": {
    "ExecuteTime": {
     "end_time": "2025-07-11T16:40:04.411309Z",
     "start_time": "2025-07-11T16:40:04.401931Z"
    }
   },
   "cell_type": "code",
   "source": [
    "# conn, cursor = None, None\n",
    "# data = None\n",
    "# try:\n",
    "#     conn = get_snowflake_connection()\n",
    "#     cursor = conn.cursor()\n",
    "#     query = \"\"\"SELECT lat, lon, numero, nom_voie, nom_commune\n",
    "#     FROM FR_ADDRESSES.PUBLIC.V2_FR_ADDRESSES\n",
    "#     ORDER BY RANDOM()\n",
    "#     LIMIT 100000\n",
    "#     \"\"\"\n",
    "#     cursor.execute(query)\n",
    "#     results = cursor.fetchall()\n",
    "#     lats = [result[0] for result in results]\n",
    "#     lngs = [result[1] for result in results]\n",
    "#     numeros = [result[2] for result in results]\n",
    "#     noms_voies = [result[3] for result in results]\n",
    "#     nom_communes = [result[4] for result in results]\n",
    "#     unique_ids = [f\"ID00{i+1}\" for i in range(100000)]\n",
    "#     print(len(nom_communes), len(lngs), print(lats), len(noms_voies), len(unique_ids), len(numeros))\n",
    "#     df = pd.DataFrame({\"unique_ids\":unique_ids, \"latitude\":lats , \"longitude\":lngs, \"numeros\" : numeros, \"voies\": noms_voies, \"communes\" : nom_communes})\n",
    "#     df.set_index(\"unique_ids\")\n",
    "#     df.to_csv(\"game_data.csv\", sep=\";\")\n",
    "# finally:\n",
    "#     if cursor:\n",
    "#         cursor.close()\n",
    "#     if conn:\n",
    "#         conn.close()"
   ],
   "id": "dbbfc6dfd319d338",
   "outputs": [],
   "execution_count": 4
  },
  {
   "metadata": {
    "ExecuteTime": {
     "end_time": "2025-07-11T16:40:05.580796Z",
     "start_time": "2025-07-11T16:40:04.422622Z"
    }
   },
   "cell_type": "code",
   "source": "df",
   "id": "2d2c7bc6fe79995",
   "outputs": [
    {
     "ename": "NameError",
     "evalue": "name 'df' is not defined",
     "output_type": "error",
     "traceback": [
      "\u001B[1;31m---------------------------------------------------------------------------\u001B[0m",
      "\u001B[1;31mNameError\u001B[0m                                 Traceback (most recent call last)",
      "Cell \u001B[1;32mIn[5], line 1\u001B[0m\n\u001B[1;32m----> 1\u001B[0m \u001B[43mdf\u001B[49m\n",
      "\u001B[1;31mNameError\u001B[0m: name 'df' is not defined"
     ]
    }
   ],
   "execution_count": 5
  },
  {
   "metadata": {
    "ExecuteTime": {
     "end_time": "2025-07-11T16:40:05.585812900Z",
     "start_time": "2025-07-11T14:13:40.703792Z"
    }
   },
   "cell_type": "code",
   "source": [
    "df = pd.read_csv(\"./game_data.csv\", sep=\";\")\n",
    "df = df.iloc[:, 1:]\n",
    "df"
   ],
   "id": "dad064e919636414",
   "outputs": [
    {
     "data": {
      "text/plain": [
       "       unique_ids   latitude  longitude  numeros  \\\n",
       "0           ID001  48.839067   2.075236       14   \n",
       "1           ID002  43.300390   0.214034       14   \n",
       "2           ID003 -20.945337  55.650218      221   \n",
       "3           ID004  43.231273   5.540532       18   \n",
       "4           ID005  50.667109   2.756450        3   \n",
       "...           ...        ...        ...      ...   \n",
       "99995   ID0099996  42.725148   3.021626        2   \n",
       "99996   ID0099997  16.167210 -61.590827      271   \n",
       "99997   ID0099998  48.033859   1.872740       24   \n",
       "99998   ID0099999  43.299516   6.618587       17   \n",
       "99999  ID00100000  48.227672   0.853989       79   \n",
       "\n",
       "                               voies             communes  \n",
       "0             Rue du Plan de l'Aître               Bailly  \n",
       "1                     Rue de l’Arros           Marseillan  \n",
       "2                        Ruelle Samy          Saint-André  \n",
       "3                     Rue Bartavello               Cassis  \n",
       "4                  Rue du Funquereau           Steenwerck  \n",
       "...                              ...                  ...  \n",
       "99995               Rue des Oliviers  Sainte-Marie-la-Mer  \n",
       "99996                Chemin de Viard          Petit-Bourg  \n",
       "99997              Rue des Alouettes             Chevilly  \n",
       "99998  Avenue Marcel Pagnol Val Oréa        Sainte-Maxime  \n",
       "99999                     Le Plessis    Coudray-au-Perche  \n",
       "\n",
       "[100000 rows x 6 columns]"
      ],
      "text/html": [
       "<div>\n",
       "<style scoped>\n",
       "    .dataframe tbody tr th:only-of-type {\n",
       "        vertical-align: middle;\n",
       "    }\n",
       "\n",
       "    .dataframe tbody tr th {\n",
       "        vertical-align: top;\n",
       "    }\n",
       "\n",
       "    .dataframe thead th {\n",
       "        text-align: right;\n",
       "    }\n",
       "</style>\n",
       "<table border=\"1\" class=\"dataframe\">\n",
       "  <thead>\n",
       "    <tr style=\"text-align: right;\">\n",
       "      <th></th>\n",
       "      <th>unique_ids</th>\n",
       "      <th>latitude</th>\n",
       "      <th>longitude</th>\n",
       "      <th>numeros</th>\n",
       "      <th>voies</th>\n",
       "      <th>communes</th>\n",
       "    </tr>\n",
       "  </thead>\n",
       "  <tbody>\n",
       "    <tr>\n",
       "      <th>0</th>\n",
       "      <td>ID001</td>\n",
       "      <td>48.839067</td>\n",
       "      <td>2.075236</td>\n",
       "      <td>14</td>\n",
       "      <td>Rue du Plan de l'Aître</td>\n",
       "      <td>Bailly</td>\n",
       "    </tr>\n",
       "    <tr>\n",
       "      <th>1</th>\n",
       "      <td>ID002</td>\n",
       "      <td>43.300390</td>\n",
       "      <td>0.214034</td>\n",
       "      <td>14</td>\n",
       "      <td>Rue de l’Arros</td>\n",
       "      <td>Marseillan</td>\n",
       "    </tr>\n",
       "    <tr>\n",
       "      <th>2</th>\n",
       "      <td>ID003</td>\n",
       "      <td>-20.945337</td>\n",
       "      <td>55.650218</td>\n",
       "      <td>221</td>\n",
       "      <td>Ruelle Samy</td>\n",
       "      <td>Saint-André</td>\n",
       "    </tr>\n",
       "    <tr>\n",
       "      <th>3</th>\n",
       "      <td>ID004</td>\n",
       "      <td>43.231273</td>\n",
       "      <td>5.540532</td>\n",
       "      <td>18</td>\n",
       "      <td>Rue Bartavello</td>\n",
       "      <td>Cassis</td>\n",
       "    </tr>\n",
       "    <tr>\n",
       "      <th>4</th>\n",
       "      <td>ID005</td>\n",
       "      <td>50.667109</td>\n",
       "      <td>2.756450</td>\n",
       "      <td>3</td>\n",
       "      <td>Rue du Funquereau</td>\n",
       "      <td>Steenwerck</td>\n",
       "    </tr>\n",
       "    <tr>\n",
       "      <th>...</th>\n",
       "      <td>...</td>\n",
       "      <td>...</td>\n",
       "      <td>...</td>\n",
       "      <td>...</td>\n",
       "      <td>...</td>\n",
       "      <td>...</td>\n",
       "    </tr>\n",
       "    <tr>\n",
       "      <th>99995</th>\n",
       "      <td>ID0099996</td>\n",
       "      <td>42.725148</td>\n",
       "      <td>3.021626</td>\n",
       "      <td>2</td>\n",
       "      <td>Rue des Oliviers</td>\n",
       "      <td>Sainte-Marie-la-Mer</td>\n",
       "    </tr>\n",
       "    <tr>\n",
       "      <th>99996</th>\n",
       "      <td>ID0099997</td>\n",
       "      <td>16.167210</td>\n",
       "      <td>-61.590827</td>\n",
       "      <td>271</td>\n",
       "      <td>Chemin de Viard</td>\n",
       "      <td>Petit-Bourg</td>\n",
       "    </tr>\n",
       "    <tr>\n",
       "      <th>99997</th>\n",
       "      <td>ID0099998</td>\n",
       "      <td>48.033859</td>\n",
       "      <td>1.872740</td>\n",
       "      <td>24</td>\n",
       "      <td>Rue des Alouettes</td>\n",
       "      <td>Chevilly</td>\n",
       "    </tr>\n",
       "    <tr>\n",
       "      <th>99998</th>\n",
       "      <td>ID0099999</td>\n",
       "      <td>43.299516</td>\n",
       "      <td>6.618587</td>\n",
       "      <td>17</td>\n",
       "      <td>Avenue Marcel Pagnol Val Oréa</td>\n",
       "      <td>Sainte-Maxime</td>\n",
       "    </tr>\n",
       "    <tr>\n",
       "      <th>99999</th>\n",
       "      <td>ID00100000</td>\n",
       "      <td>48.227672</td>\n",
       "      <td>0.853989</td>\n",
       "      <td>79</td>\n",
       "      <td>Le Plessis</td>\n",
       "      <td>Coudray-au-Perche</td>\n",
       "    </tr>\n",
       "  </tbody>\n",
       "</table>\n",
       "<p>100000 rows × 6 columns</p>\n",
       "</div>"
      ]
     },
     "execution_count": 52,
     "metadata": {},
     "output_type": "execute_result"
    }
   ],
   "execution_count": 52
  },
  {
   "metadata": {
    "ExecuteTime": {
     "end_time": "2025-07-11T16:40:05.613062900Z",
     "start_time": "2025-07-11T14:13:40.867766Z"
    }
   },
   "cell_type": "code",
   "source": "",
   "id": "d3e4219bae35d398",
   "outputs": [],
   "execution_count": null
  }
 ],
 "metadata": {
  "kernelspec": {
   "display_name": "Python 3",
   "language": "python",
   "name": "python3"
  },
  "language_info": {
   "codemirror_mode": {
    "name": "ipython",
    "version": 2
   },
   "file_extension": ".py",
   "mimetype": "text/x-python",
   "name": "python",
   "nbconvert_exporter": "python",
   "pygments_lexer": "ipython2",
   "version": "2.7.6"
  }
 },
 "nbformat": 4,
 "nbformat_minor": 5
}
